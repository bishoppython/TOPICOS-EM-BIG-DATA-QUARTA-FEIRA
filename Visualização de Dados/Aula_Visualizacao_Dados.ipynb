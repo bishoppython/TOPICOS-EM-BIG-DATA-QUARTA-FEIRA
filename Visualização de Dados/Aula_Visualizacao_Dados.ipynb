{
 "cells": [
  {
   "cell_type": "markdown",
   "id": "df923d84",
   "metadata": {},
   "source": [
    "# 📊 Aula: Visualização de Dados com Matplotlib, Seaborn e Plotly"
   ]
  },
  {
   "cell_type": "markdown",
   "id": "a6ae830b",
   "metadata": {},
   "source": [
    "## 🎯 Objetivo\n",
    "Apresentar as principais bibliotecas de visualização de dados em Python: Matplotlib, Seaborn e Plotly, com exemplos práticos."
   ]
  },
  {
   "cell_type": "markdown",
   "id": "1da1fbd4",
   "metadata": {},
   "source": [
    "## 🔹 Matplotlib\n",
    "### Instalação:\n",
    "```bash\n",
    "pip install matplotlib\n",
    "```\n",
    "### Exemplo de gráfico de linha:"
   ]
  },
  {
   "cell_type": "code",
   "execution_count": null,
   "id": "09c5df2d",
   "metadata": {},
   "outputs": [],
   "source": [
    "import matplotlib.pyplot as plt\n",
    "\n",
    "x = [1, 2, 3, 4, 5]\n",
    "y = [2, 3, 5, 7, 11]\n",
    "\n",
    "plt.plot(x, y, marker='o')\n",
    "plt.title(\"Gráfico de Linha - Matplotlib\")\n",
    "plt.xlabel(\"Eixo X\")\n",
    "plt.ylabel(\"Eixo Y\")\n",
    "plt.grid(True)\n",
    "plt.show()"
   ]
  },
  {
   "cell_type": "markdown",
   "id": "cce1f5d6",
   "metadata": {},
   "source": [
    "## 🔹 Seaborn\n",
    "### Instalação:\n",
    "```bash\n",
    "pip install seaborn\n",
    "```\n",
    "### Exemplo de gráfico de barras:"
   ]
  },
  {
   "cell_type": "code",
   "execution_count": null,
   "id": "85ecaadf",
   "metadata": {},
   "outputs": [],
   "source": [
    "import seaborn as sns\n",
    "import pandas as pd\n",
    "import matplotlib.pyplot as plt\n",
    "\n",
    "df = sns.load_dataset(\"tips\")\n",
    "sns.barplot(x=\"day\", y=\"total_bill\", data=df)\n",
    "plt.title(\"Conta total por dia - Seaborn\")\n",
    "plt.show()"
   ]
  },
  {
   "cell_type": "markdown",
   "id": "ddb829a6",
   "metadata": {},
   "source": [
    "## 🔹 Plotly\n",
    "### Instalação:\n",
    "```bash\n",
    "pip install plotly\n",
    "```\n",
    "### Exemplo de gráfico de dispersão interativo:"
   ]
  },
  {
   "cell_type": "code",
   "execution_count": null,
   "id": "cf59eb01",
   "metadata": {},
   "outputs": [],
   "source": [
    "import plotly.express as px\n",
    "\n",
    "df = px.data.gapminder().query(\"year == 2007\")\n",
    "fig = px.scatter(df, x=\"gdpPercap\", y=\"lifeExp\", size=\"pop\",\n",
    "                 color=\"continent\", hover_name=\"country\", log_x=True)\n",
    "fig.update_layout(title=\"Expectativa de Vida vs PIB per capita (2007)\")\n",
    "fig.show()"
   ]
  },
  {
   "cell_type": "markdown",
   "id": "e6052db9",
   "metadata": {},
   "source": [
    "## 📊 Comparação das Bibliotecas\n",
    "| Recurso             | Matplotlib | Seaborn | Plotly |\n",
    "|---------------------|------------|---------|--------|\n",
    "| Gráficos Estáticos  | ✅         | ✅      | ❌     |\n",
    "| Gráficos Interativos| ❌         | ❌      | ✅     |\n",
    "| Complexidade        | Alta       | Média   | Baixa  |\n",
    "| Personalização      | Alta       | Média   | Alta   |\n",
    "| Facilidade de uso   | Média      | Alta    | Alta   |"
   ]
  },
  {
   "cell_type": "markdown",
   "id": "2ba76efe",
   "metadata": {},
   "source": [
    "## 🧪 Atividade Prática\n",
    "Crie um gráfico de barras com os seguintes dados usando as três bibliotecas:\n",
    "- Produto A: 100 vendas\n",
    "- Produto B: 150 vendas\n",
    "- Produto C: 90 vendas"
   ]
  }
 ],
 "metadata": {
  "kernelspec": {
   "display_name": "Python 3 (ipykernel)",
   "language": "python",
   "name": "python3"
  },
  "language_info": {
   "codemirror_mode": {
    "name": "ipython",
    "version": 3
   },
   "file_extension": ".py",
   "mimetype": "text/x-python",
   "name": "python",
   "nbconvert_exporter": "python",
   "pygments_lexer": "ipython3",
   "version": "3.12.3"
  }
 },
 "nbformat": 4,
 "nbformat_minor": 5
}
